{
  "nbformat": 4,
  "nbformat_minor": 0,
  "metadata": {
    "colab": {
      "provenance": []
    },
    "kernelspec": {
      "name": "python3",
      "display_name": "Python 3"
    },
    "language_info": {
      "name": "python"
    }
  },
  "cells": [
    {
      "cell_type": "code",
      "execution_count": null,
      "metadata": {
        "id": "0nDJi-kY7IOX"
      },
      "outputs": [],
      "source": [
        "def circular_capture_script():\n",
        "    return '''\n",
        "    (async function() {\n",
        "        const delay = ms => new Promise(res => setTimeout(res, ms));\n",
        "        ...\n",
        "    })();\n",
        "    '''\n",
        "\n",
        "def single_capture_script():\n",
        "    return '''\n",
        "    (async function() {\n",
        "        ...\n",
        "    })();\n",
        "    '''\n"
      ]
    }
  ]
}