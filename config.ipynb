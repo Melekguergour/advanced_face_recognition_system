{
  "nbformat": 4,
  "nbformat_minor": 0,
  "metadata": {
    "colab": {
      "provenance": []
    },
    "kernelspec": {
      "name": "python3",
      "display_name": "Python 3"
    },
    "language_info": {
      "name": "python"
    }
  },
  "cells": [
    {
      "cell_type": "code",
      "execution_count": null,
      "metadata": {
        "id": "u0pYxbCH64cc"
      },
      "outputs": [],
      "source": [
        "EMBEDDING_FILE = \"assets/embeddings.npy\"\n",
        "USER_INFO_FILE = \"assets/user_infos.json\"\n",
        "EMBEDDING_SIZE = 1404\n"
      ]
    }
  ]
}