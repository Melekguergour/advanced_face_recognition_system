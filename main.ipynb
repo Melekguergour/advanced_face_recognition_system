{
  "nbformat": 4,
  "nbformat_minor": 0,
  "metadata": {
    "colab": {
      "provenance": []
    },
    "kernelspec": {
      "name": "python3",
      "display_name": "Python 3"
    },
    "language_info": {
      "name": "python"
    }
  },
  "cells": [
    {
      "cell_type": "code",
      "execution_count": null,
      "metadata": {
        "id": "0nDJi-kY7IOX"
      },
      "outputs": [],
      "source": [
        "from IPython.display import display\n",
        "from app.ui_widgets import show_camera_button\n",
        "\n",
        "if __name__ == \"__main__\":\n",
        "    show_camera_button()\n"
      ]
    }
  ]
}