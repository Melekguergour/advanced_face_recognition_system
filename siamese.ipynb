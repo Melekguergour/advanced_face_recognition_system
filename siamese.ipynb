{
  "nbformat": 4,
  "nbformat_minor": 0,
  "metadata": {
    "colab": {
      "provenance": []
    },
    "kernelspec": {
      "name": "python3",
      "display_name": "Python 3"
    },
    "language_info": {
      "name": "python"
    }
  },
  "cells": [
    {
      "cell_type": "code",
      "execution_count": null,
      "metadata": {
        "id": "xi5WWW-M7BnH"
      },
      "outputs": [],
      "source": [
        "import torch.nn as nn\n",
        "from app.config import EMBEDDING_SIZE\n",
        "\n",
        "class SiameseNetwork(nn.Module):\n",
        "    def __init__(self):\n",
        "        super().__init__()\n",
        "        self.fc = nn.Sequential(\n",
        "            nn.Linear(EMBEDDING_SIZE * 2, 512),\n",
        "            nn.ReLU(),\n",
        "            nn.Linear(512, 1),\n",
        "            nn.Sigmoid()\n",
        "        )\n",
        "\n",
        "    def forward(self, emb1, emb2):\n",
        "        return self.fc(torch.cat((emb1, emb2), dim=1))\n"
      ]
    }
  ]
}